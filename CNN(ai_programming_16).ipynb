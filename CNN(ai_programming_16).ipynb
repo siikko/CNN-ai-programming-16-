{
  "nbformat": 4,
  "nbformat_minor": 0,
  "metadata": {
    "colab": {
      "provenance": [],
      "gpuType": "T4"
    },
    "kernelspec": {
      "name": "python3",
      "display_name": "Python 3"
    },
    "language_info": {
      "name": "python"
    },
    "accelerator": "GPU"
  },
  "cells": [
    {
      "cell_type": "markdown",
      "source": [
        "# **기본**\n",
        "\n",
        "**필요한 라이브러리 호출**\n",
        "\n",
        "**cuda를 사용하고 있는지, cpu를 사용하고 있는지 출력하기**\n",
        "\n",
        " **재현성을 유지할 수 있는 코드**"
      ],
      "metadata": {
        "id": "lMBxcg_wEUHl"
      }
    },
    {
      "cell_type": "code",
      "execution_count": 2,
      "metadata": {
        "id": "T2Swjy3-IP8B",
        "colab": {
          "base_uri": "https://localhost:8080/"
        },
        "outputId": "0fcb3b9e-30cf-4170-82bb-23acd2030548"
      },
      "outputs": [
        {
          "output_type": "stream",
          "name": "stdout",
          "text": [
            "다음 기기로 학습합니다:  cuda\n"
          ]
        }
      ],
      "source": [
        "import torch\n",
        "import torch.nn as nn\n",
        "import torchvision.datasets as dsets\n",
        "import torchvision.transforms as transforms\n",
        "from torch.utils.data import DataLoader\n",
        "import matplotlib.pyplot as plt\n",
        "\n",
        "import random\n",
        "\n",
        "USE_CUDA=torch.cuda.is_available()\n",
        "device=torch.device(\"cuda\" if USE_CUDA else \"cpu\")\n",
        "print(\"다음 기기로 학습합니다: \",device)\n",
        "\n",
        "random.seed(7777)\n",
        "torch.manual_seed(7777)\n",
        "if device=='cuda':\n",
        "  torch.cuda.manual_seed_all(7777)\n",
        "\n"
      ]
    },
    {
      "cell_type": "markdown",
      "source": [
        "# **CNN모델 구축**"
      ],
      "metadata": {
        "id": "yPTzFeHbEyf5"
      }
    },
    {
      "cell_type": "code",
      "source": [
        "class CNN(nn.Module):\n",
        "  def __init__(self):\n",
        "    super(CNN,self).__init__()\n",
        "    self.layer1=nn.Sequential(\n",
        "        nn.Conv2d(1,32,kernel_size=3,stride=1,padding=1),\n",
        "        nn.ReLU(),\n",
        "        nn.MaxPool2d(2,stride=2)) #nn.MaxPool2d(kernel_size=2,stride=2)\n",
        "    self.layer2=nn.Sequential(\n",
        "        nn.Conv2d(32,64,kernel_size=3,stride=1,padding=1),\n",
        "        nn.ReLU(),\n",
        "        nn.MaxPool2d(2,stride=2))\n",
        "    self.fc=nn.Sequential(\n",
        "        nn.Linear(7*7*64,100),\n",
        "        nn.ReLU(),\n",
        "        nn.Linear(100,10))\n",
        "\n",
        "  def forward(self,x):\n",
        "    out=self.layer1(x)\n",
        "    out=self.layer2(out)\n",
        "    out=out.view(out.size(0),-1)\n",
        "    out=self.fc(out)\n",
        "    return out\n",
        "\n",
        ""
      ],
      "metadata": {
        "id": "7xgV-EuABPJU"
      },
      "execution_count": 6,
      "outputs": []
    },
    {
      "cell_type": "markdown",
      "source": [
        "# **mnist데이터 셋에서 train 데이터와 test 데이터 불러오기**"
      ],
      "metadata": {
        "id": "OduOFThmE2VK"
      }
    },
    {
      "cell_type": "code",
      "source": [
        "mnist_train=dsets.MNIST(root='MNIST_data/',train=True,transform=transforms.ToTensor(),download=True)\n",
        "mnist_test=dsets.MNIST(root='MNIST_data/',train=False,transform=transforms.ToTensor(),download=True)"
      ],
      "metadata": {
        "colab": {
          "base_uri": "https://localhost:8080/"
        },
        "id": "kc_nZlfzCvDQ",
        "outputId": "227d3e87-2be1-4848-cc8d-557e4c33b7b0"
      },
      "execution_count": 3,
      "outputs": [
        {
          "output_type": "stream",
          "name": "stdout",
          "text": [
            "Downloading http://yann.lecun.com/exdb/mnist/train-images-idx3-ubyte.gz\n",
            "Failed to download (trying next):\n",
            "HTTP Error 403: Forbidden\n",
            "\n",
            "Downloading https://ossci-datasets.s3.amazonaws.com/mnist/train-images-idx3-ubyte.gz\n",
            "Downloading https://ossci-datasets.s3.amazonaws.com/mnist/train-images-idx3-ubyte.gz to MNIST_data/MNIST/raw/train-images-idx3-ubyte.gz\n"
          ]
        },
        {
          "output_type": "stream",
          "name": "stderr",
          "text": [
            "100%|██████████| 9.91M/9.91M [00:00<00:00, 14.4MB/s]\n"
          ]
        },
        {
          "output_type": "stream",
          "name": "stdout",
          "text": [
            "Extracting MNIST_data/MNIST/raw/train-images-idx3-ubyte.gz to MNIST_data/MNIST/raw\n",
            "\n",
            "Downloading http://yann.lecun.com/exdb/mnist/train-labels-idx1-ubyte.gz\n",
            "Failed to download (trying next):\n",
            "HTTP Error 403: Forbidden\n",
            "\n",
            "Downloading https://ossci-datasets.s3.amazonaws.com/mnist/train-labels-idx1-ubyte.gz\n",
            "Downloading https://ossci-datasets.s3.amazonaws.com/mnist/train-labels-idx1-ubyte.gz to MNIST_data/MNIST/raw/train-labels-idx1-ubyte.gz\n"
          ]
        },
        {
          "output_type": "stream",
          "name": "stderr",
          "text": [
            "100%|██████████| 28.9k/28.9k [00:00<00:00, 482kB/s]\n"
          ]
        },
        {
          "output_type": "stream",
          "name": "stdout",
          "text": [
            "Extracting MNIST_data/MNIST/raw/train-labels-idx1-ubyte.gz to MNIST_data/MNIST/raw\n",
            "\n",
            "Downloading http://yann.lecun.com/exdb/mnist/t10k-images-idx3-ubyte.gz\n",
            "Failed to download (trying next):\n",
            "HTTP Error 403: Forbidden\n",
            "\n",
            "Downloading https://ossci-datasets.s3.amazonaws.com/mnist/t10k-images-idx3-ubyte.gz\n",
            "Downloading https://ossci-datasets.s3.amazonaws.com/mnist/t10k-images-idx3-ubyte.gz to MNIST_data/MNIST/raw/t10k-images-idx3-ubyte.gz\n"
          ]
        },
        {
          "output_type": "stream",
          "name": "stderr",
          "text": [
            "100%|██████████| 1.65M/1.65M [00:00<00:00, 4.38MB/s]\n"
          ]
        },
        {
          "output_type": "stream",
          "name": "stdout",
          "text": [
            "Extracting MNIST_data/MNIST/raw/t10k-images-idx3-ubyte.gz to MNIST_data/MNIST/raw\n",
            "\n",
            "Downloading http://yann.lecun.com/exdb/mnist/t10k-labels-idx1-ubyte.gz\n",
            "Failed to download (trying next):\n",
            "HTTP Error 403: Forbidden\n",
            "\n",
            "Downloading https://ossci-datasets.s3.amazonaws.com/mnist/t10k-labels-idx1-ubyte.gz\n",
            "Downloading https://ossci-datasets.s3.amazonaws.com/mnist/t10k-labels-idx1-ubyte.gz to MNIST_data/MNIST/raw/t10k-labels-idx1-ubyte.gz\n"
          ]
        },
        {
          "output_type": "stream",
          "name": "stderr",
          "text": [
            "100%|██████████| 4.54k/4.54k [00:00<00:00, 5.51MB/s]"
          ]
        },
        {
          "output_type": "stream",
          "name": "stdout",
          "text": [
            "Extracting MNIST_data/MNIST/raw/t10k-labels-idx1-ubyte.gz to MNIST_data/MNIST/raw\n",
            "\n"
          ]
        },
        {
          "output_type": "stream",
          "name": "stderr",
          "text": [
            "\n"
          ]
        }
      ]
    },
    {
      "cell_type": "markdown",
      "source": [
        "# **하이퍼파라미터 설정과 DataLoader로 배치 설정**"
      ],
      "metadata": {
        "id": "Cs62_J2PFrjF"
      }
    },
    {
      "cell_type": "code",
      "source": [
        "training_epochs=3\n",
        "batch_size=100\n",
        "\n",
        "data_loader=DataLoader(dataset=mnist_train,batch_size=batch_size,shuffle=True)"
      ],
      "metadata": {
        "id": "MMLvPaEjFxGX"
      },
      "execution_count": 4,
      "outputs": []
    },
    {
      "cell_type": "markdown",
      "source": [
        "# **학습시작**"
      ],
      "metadata": {
        "id": "nlM3lwj4GAUn"
      }
    },
    {
      "cell_type": "code",
      "source": [
        "model=CNN().to(device) #모델을 gpu로 이동시켜야 한다. 합성곱은 많은 연산을 필요로하기때문에 gpu가 필요합니다.\n",
        "criterion=nn.CrossEntropyLoss().cuda()  #손실함수도 cuda로 옮겨야 한다. #.cuda()대신, to(device)해도 됨.\n",
        "optimizer=torch.optim.Adam(model.parameters(),lr=0.01)\n",
        "\n",
        "for epoch in range(training_epochs):\n",
        "  #이 학습에서 평균 손실 값을 계산할 것이다.\n",
        "  avg_cost=0\n",
        "  total_batch=len(data_loader)\n",
        "\n",
        "  for idx,(x_train,y_train) in enumerate(data_loader):\n",
        "    #데이터도 gpu로 옮겨줘야함.\n",
        "    x_train=x_train.to(device)\n",
        "    y_train=y_train.to(device)\n",
        "\n",
        "    outputs=model(x_train)\n",
        "    cost=criterion(outputs,y_train)\n",
        "\n",
        "    optimizer.zero_grad()\n",
        "    cost.backward()\n",
        "    optimizer.step()\n",
        "\n",
        "    avg_cost+=cost/total_batch\n",
        "\n",
        "  print('Epoch:','%04d'%(epoch+1),'cost=','{:.9f}'.format(avg_cost))\n",
        "\n",
        "print('학습종료')"
      ],
      "metadata": {
        "colab": {
          "base_uri": "https://localhost:8080/"
        },
        "id": "2Fd1HH94GCXm",
        "outputId": "5b636463-feff-4f3b-e7aa-40d3042e5a92"
      },
      "execution_count": 7,
      "outputs": [
        {
          "output_type": "stream",
          "name": "stdout",
          "text": [
            "Epoch: 0001 cost= 0.173805118\n",
            "Epoch: 0002 cost= 0.062940262\n",
            "Epoch: 0003 cost= 0.055396762\n",
            "학습종료\n"
          ]
        }
      ]
    },
    {
      "cell_type": "markdown",
      "source": [
        "# **test데이터로 성능 체크**"
      ],
      "metadata": {
        "id": "kNrbU48rIDA_"
      }
    },
    {
      "cell_type": "code",
      "source": [
        "with torch.no_grad(): #현재, 성능과 추론을 하는 단계이므로 gradient계산이 불필요하다. 따라서 torch.no_grad()를 이용하는 것임.\n",
        "  x_test=mnist_test.data.view(len(mnist_test),1,28,28).float().to(device) #test의 데이터 갯수, channel 수, 높이, 너비 #역시 데이터를 gpu로 옮겨야 한다.\n",
        "  y_test=mnist_test.targets.to(device)\n",
        "\n",
        "\n",
        "\n",
        "#즉, 예측값이 맞으면 true, 틀리면 false로 데이터들을 매기고 .float()을 통해서 0,1로 바꾼 뒤, 평균을 내줘서 정확도를 계산한다.\n",
        "  prediction=model(x_test)\n",
        "  correct_prediction=torch.argmax(prediction,1)==y_test\n",
        "  accuracy=correct_prediction.float().mean()\n",
        "  print(\"정확도: \",accuracy.item())\n"
      ],
      "metadata": {
        "colab": {
          "base_uri": "https://localhost:8080/"
        },
        "id": "chB1wxfiIPdo",
        "outputId": "fabf19bf-4cb0-4f10-a2d0-6276680e865d"
      },
      "execution_count": 11,
      "outputs": [
        {
          "output_type": "stream",
          "name": "stdout",
          "text": [
            "정확도:  0.9788999557495117\n"
          ]
        }
      ]
    }
  ]
}